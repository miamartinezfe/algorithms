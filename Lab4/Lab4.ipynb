{
  "nbformat": 4,
  "nbformat_minor": 0,
  "metadata": {
    "colab": {
      "provenance": [],
      "collapsed_sections": [],
      "authorship_tag": "ABX9TyMW7FnezgB4OEhQkJ4aliXf",
      "include_colab_link": true
    },
    "kernelspec": {
      "name": "python3",
      "display_name": "Python 3"
    },
    "language_info": {
      "name": "python"
    }
  },
  "cells": [
    {
      "cell_type": "markdown",
      "metadata": {
        "id": "view-in-github",
        "colab_type": "text"
      },
      "source": [
        "<a href=\"https://colab.research.google.com/github/miamartinezfe/algorithms/blob/master/Lab4/Lab4.ipynb\" target=\"_parent\"><img src=\"https://colab.research.google.com/assets/colab-badge.svg\" alt=\"Open In Colab\"/></a>"
      ]
    },
    {
      "cell_type": "code",
      "execution_count": 2,
      "metadata": {
        "colab": {
          "base_uri": "https://localhost:8080/"
        },
        "id": "TXwELo6ARbxf",
        "outputId": "73e6bf85-f2a4-4a15-a06a-6b26a357cbc3"
      },
      "outputs": [
        {
          "output_type": "stream",
          "name": "stdout",
          "text": [
            "x**4 - 14*x**3 + 71*x**2 - 154*x + 120\n",
            "0\n",
            "x**3 - 12*x**2 + 47*x - 60\n",
            "0\n",
            "x**2 - 9*x + 20\n",
            "0\n",
            "x - 5\n",
            "0\n"
          ]
        }
      ],
      "source": [
        "from sympy import Symbol\n",
        "from sympy import div\n",
        "\n",
        "x = Symbol('x')\n",
        "\n",
        "p = x**5 - 15*x**4  + 85*x**3 - 225*x**2 + 274*x - 120\n",
        "\n",
        "p, r = div(p,  x-1)\n",
        "\n",
        "print(p)\n",
        "print(r)\n",
        "\n",
        "p, r = div(p,  x-2)\n",
        "\n",
        "print(p)\n",
        "print(r)\n",
        "\n",
        "p, r = div(p,  x-3)\n",
        "\n",
        "print(p)\n",
        "print(r)\n",
        "\n",
        "p, r = div(p,  x-4)\n",
        "\n",
        "print(p)\n",
        "print(r)"
      ]
    },
    {
      "cell_type": "code",
      "source": [
        "p = x**5 - 15*x**4  + 85*x**3 - 225*x**2 + 274*x - 120\n",
        "\n",
        "p, r = div(p,  x-6)\n",
        "\n",
        "print(p)\n",
        "print(r)"
      ],
      "metadata": {
        "colab": {
          "base_uri": "https://localhost:8080/"
        },
        "id": "JbNhUP5wRj9J",
        "outputId": "0a15d4d4-00bb-4aea-c107-713615eaf55d"
      },
      "execution_count": 3,
      "outputs": [
        {
          "output_type": "stream",
          "name": "stdout",
          "text": [
            "x**4 - 9*x**3 + 31*x**2 - 39*x + 40\n",
            "120\n"
          ]
        }
      ]
    },
    {
      "cell_type": "code",
      "source": [
        "from sympy import Symbol, solveset, Eq\n",
        "x = Symbol('x')\n",
        "solveset(Eq(x**5 - 15*x**4  + 85*x**3 - 225*x**2 + 274*x - 120, 0), x)"
      ],
      "metadata": {
        "colab": {
          "base_uri": "https://localhost:8080/",
          "height": 37
        },
        "id": "Rwh5nsV9Rjjz",
        "outputId": "61ba5d2d-b8d1-45da-a342-b59b345e67d6"
      },
      "execution_count": 4,
      "outputs": [
        {
          "output_type": "execute_result",
          "data": {
            "text/plain": [
              "FiniteSet(1, 2, 3, 4, 5)"
            ],
            "text/latex": "$\\displaystyle \\left\\{1, 2, 3, 4, 5\\right\\}$"
          },
          "metadata": {},
          "execution_count": 4
        }
      ]
    },
    {
      "cell_type": "code",
      "source": [
        "from sympy import Symbol, solveset, Eq, sqrt, pi\n",
        "x = Symbol('x')\n",
        "solveset(Eq(x**2 - (sqrt(2)+pi)*x + (sqrt(2)*pi) , 0), x)"
      ],
      "metadata": {
        "colab": {
          "base_uri": "https://localhost:8080/",
          "height": 47
        },
        "id": "NR4h0rMGR3p5",
        "outputId": "aac2a8f8-d0a5-4fe1-f8cf-f5f206026d45"
      },
      "execution_count": 5,
      "outputs": [
        {
          "output_type": "execute_result",
          "data": {
            "text/plain": [
              "FiniteSet(pi, sqrt(2))"
            ],
            "text/latex": "$\\displaystyle \\left\\{\\sqrt{2}, \\pi\\right\\}$"
          },
          "metadata": {},
          "execution_count": 5
        }
      ]
    },
    {
      "cell_type": "code",
      "source": [
        "from sympy import Symbol,factor\n",
        "x = Symbol('x')\n",
        "factor(x**5 - 2*x**4  - x**3 + 8*x**2 - 10*x - 4,domain='GF(2)')"
      ],
      "metadata": {
        "colab": {
          "base_uri": "https://localhost:8080/",
          "height": 40
        },
        "id": "xBqi65cWR7S2",
        "outputId": "ce2080a4-c113-41dc-b391-42356b4fa3fb"
      },
      "execution_count": 6,
      "outputs": [
        {
          "output_type": "execute_result",
          "data": {
            "text/plain": [
              "x**3*(x + 1)**2"
            ],
            "text/latex": "$\\displaystyle x^{3} \\left(x + 1\\right)^{2}$"
          },
          "metadata": {},
          "execution_count": 6
        }
      ]
    },
    {
      "cell_type": "code",
      "source": [
        "from sympy import symbols, I, N, pi, expand\n",
        "x1, x2, y1, y2, z1, z2 = symbols(\"x1 x2 y1 y2 z1 z2\", real=True)  \n",
        "x = x1 + I*x2\n",
        "y = y1 + I*y2\n",
        "z = z1 + I*z2\n",
        "\n",
        "print(x*y*z)\n",
        "print(expand(x*y*z))\n",
        "print(expand((x*y)*z))\n",
        "print(expand(x*(y*z)))\n",
        "\n",
        "w=N(1/(pi + I), 20)\n",
        "print('w=',w)"
      ],
      "metadata": {
        "colab": {
          "base_uri": "https://localhost:8080/"
        },
        "id": "4U9ZDEBFR-xn",
        "outputId": "566d471e-c810-476b-d9c6-faf92ee7f57f"
      },
      "execution_count": 7,
      "outputs": [
        {
          "output_type": "stream",
          "name": "stdout",
          "text": [
            "(x1 + I*x2)*(y1 + I*y2)*(z1 + I*z2)\n",
            "x1*y1*z1 + I*x1*y1*z2 + I*x1*y2*z1 - x1*y2*z2 + I*x2*y1*z1 - x2*y1*z2 - x2*y2*z1 - I*x2*y2*z2\n",
            "x1*y1*z1 + I*x1*y1*z2 + I*x1*y2*z1 - x1*y2*z2 + I*x2*y1*z1 - x2*y1*z2 - x2*y2*z1 - I*x2*y2*z2\n",
            "x1*y1*z1 + I*x1*y1*z2 + I*x1*y2*z1 - x1*y2*z2 + I*x2*y1*z1 - x2*y1*z2 - x2*y2*z1 - I*x2*y2*z2\n",
            "w= 0.28902548222223624241 - 0.091999668350375232456*I\n"
          ]
        }
      ]
    },
    {
      "cell_type": "code",
      "source": [
        "from sympy import Symbol, integrate, sin\n",
        "x = Symbol('x')\n",
        "integrate(x**2 * sin(x)**3, x)"
      ],
      "metadata": {
        "colab": {
          "base_uri": "https://localhost:8080/",
          "height": 55
        },
        "id": "ctZt8kWRSCKI",
        "outputId": "0ddd82e3-0e86-4e12-8095-0ef782e3885f"
      },
      "execution_count": 8,
      "outputs": [
        {
          "output_type": "execute_result",
          "data": {
            "text/plain": [
              "-x**2*sin(x)**2*cos(x) - 2*x**2*cos(x)**3/3 + 14*x*sin(x)**3/9 + 4*x*sin(x)*cos(x)**2/3 + 14*sin(x)**2*cos(x)/9 + 40*cos(x)**3/27"
            ],
            "text/latex": "$\\displaystyle - x^{2} \\sin^{2}{\\left(x \\right)} \\cos{\\left(x \\right)} - \\frac{2 x^{2} \\cos^{3}{\\left(x \\right)}}{3} + \\frac{14 x \\sin^{3}{\\left(x \\right)}}{9} + \\frac{4 x \\sin{\\left(x \\right)} \\cos^{2}{\\left(x \\right)}}{3} + \\frac{14 \\sin^{2}{\\left(x \\right)} \\cos{\\left(x \\right)}}{9} + \\frac{40 \\cos^{3}{\\left(x \\right)}}{27}$"
          },
          "metadata": {},
          "execution_count": 8
        }
      ]
    },
    {
      "cell_type": "code",
      "source": [
        "from sympy import Symbol, integrate, sin\n",
        "x = Symbol('x')\n",
        "integrate(x**2 * sin(x)**3, (x,1,5))"
      ],
      "metadata": {
        "colab": {
          "base_uri": "https://localhost:8080/",
          "height": 55
        },
        "id": "5fSQuSImSFd4",
        "outputId": "91b13976-2bec-4693-8a75-611b23bcf0a5"
      },
      "execution_count": 9,
      "outputs": [
        {
          "output_type": "execute_result",
          "data": {
            "text/plain": [
              "70*sin(5)**3/9 - 211*sin(5)**2*cos(5)/9 - 14*sin(1)**3/9 + 20*sin(5)*cos(5)**2/3 - 410*cos(5)**3/27 - 4*sin(1)*cos(1)**2/3 - 5*sin(1)**2*cos(1)/9 - 22*cos(1)**3/27"
            ],
            "text/latex": "$\\displaystyle \\frac{70 \\sin^{3}{\\left(5 \\right)}}{9} - \\frac{211 \\sin^{2}{\\left(5 \\right)} \\cos{\\left(5 \\right)}}{9} - \\frac{14 \\sin^{3}{\\left(1 \\right)}}{9} + \\frac{20 \\sin{\\left(5 \\right)} \\cos^{2}{\\left(5 \\right)}}{3} - \\frac{410 \\cos^{3}{\\left(5 \\right)}}{27} - \\frac{4 \\sin{\\left(1 \\right)} \\cos^{2}{\\left(1 \\right)}}{3} - \\frac{5 \\sin^{2}{\\left(1 \\right)} \\cos{\\left(1 \\right)}}{9} - \\frac{22 \\cos^{3}{\\left(1 \\right)}}{27}$"
          },
          "metadata": {},
          "execution_count": 9
        }
      ]
    },
    {
      "cell_type": "code",
      "source": [
        "from sympy import Symbol, integrate, sin, N\n",
        "x = Symbol('x')\n",
        "N(integrate(x**2 * sin(x)**3, (x,1,5)))"
      ],
      "metadata": {
        "colab": {
          "base_uri": "https://localhost:8080/",
          "height": 37
        },
        "id": "JDRj_drQSHYw",
        "outputId": "90d738e0-d3de-49b7-df26-ff601ca56da2"
      },
      "execution_count": 10,
      "outputs": [
        {
          "output_type": "execute_result",
          "data": {
            "text/plain": [
              "-15.4297821533056"
            ],
            "text/latex": "$\\displaystyle -15.4297821533056$"
          },
          "metadata": {},
          "execution_count": 10
        }
      ]
    },
    {
      "cell_type": "markdown",
      "source": [],
      "metadata": {
        "id": "oOacsbDJR3Ts"
      }
    }
  ]
}